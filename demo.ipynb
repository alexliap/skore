{
 "cells": [
  {
   "cell_type": "code",
   "execution_count": null,
   "id": "8bbb5efa-b7dc-4999-a178-e21495634f3a",
   "metadata": {},
   "outputs": [],
   "source": [
    "from sklearn.datasets import make_classification \n",
    "from sklearn.pipeline import make_pipeline\n",
    "from sklearn.linear_model import LogisticRegression\n",
    "from sklearn.preprocessing import StandardScaler\n",
    "from skore import CrossValidationReport\n",
    "\n",
    "pipe = make_pipeline(StandardScaler(), LogisticRegression())\n",
    "X, y = make_classification(n_samples=16000, n_features=10)\n",
    "report = CrossValidationReport(pipe, X, y)"
   ]
  },
  {
   "cell_type": "code",
   "execution_count": null,
   "id": "060aaaee-1dc4-4822-81e3-69c764638002",
   "metadata": {},
   "outputs": [],
   "source": [
    "from skore import render_model_card\n",
    "\n",
    "render_model_card(\n",
    "    report,\n",
    "    name=\"Demo classifier\", \n",
    "    description=\"This is really just a demo of a model card. The model is really silly.\",\n",
    "    intended_use=\"The goal of this pipeline is to show a bunch of properties that can be displayed in a model card.\",\n",
    "    limitations=\"There is no reason to ever use this system. Ever.\"\n",
    ")"
   ]
  },
  {
   "cell_type": "code",
   "execution_count": null,
   "id": "eda47d2c-c52c-4d2d-ad59-07c9ce6d6d04",
   "metadata": {},
   "outputs": [],
   "source": []
  }
 ],
 "metadata": {
  "kernelspec": {
   "display_name": "Python 3 (ipykernel)",
   "language": "python",
   "name": "python3"
  },
  "language_info": {
   "codemirror_mode": {
    "name": "ipython",
    "version": 3
   },
   "file_extension": ".py",
   "mimetype": "text/x-python",
   "name": "python",
   "nbconvert_exporter": "python",
   "pygments_lexer": "ipython3",
   "version": "3.12.1"
  }
 },
 "nbformat": 4,
 "nbformat_minor": 5
}
